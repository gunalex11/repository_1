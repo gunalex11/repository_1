{
 "cells": [
  {
   "cell_type": "code",
   "execution_count": null,
   "metadata": {},
   "outputs": [],
   "source": [
    "Доброго времени суток! Представляю миру моё решение этой задачки!"
   ]
  },
  {
   "cell_type": "code",
   "execution_count": 8,
   "metadata": {},
   "outputs": [
    {
     "name": "stdin",
     "output_type": "stream",
     "text": [
      "Сколько уравнений в вашей системе?\n",
      " 4\n"
     ]
    },
    {
     "name": "stdout",
     "output_type": "stream",
     "text": [
      "Ввведите через пробел коэффициенты и значение уравнения номер 1\n"
     ]
    },
    {
     "name": "stdin",
     "output_type": "stream",
     "text": [
      " 7 8 9 4 5\n"
     ]
    },
    {
     "name": "stdout",
     "output_type": "stream",
     "text": [
      "Ввведите через пробел коэффициенты и значение уравнения номер 2\n"
     ]
    },
    {
     "name": "stdin",
     "output_type": "stream",
     "text": [
      " 4 5 6 1 2\n"
     ]
    },
    {
     "name": "stdout",
     "output_type": "stream",
     "text": [
      "Ввведите через пробел коэффициенты и значение уравнения номер 3\n"
     ]
    },
    {
     "name": "stdin",
     "output_type": "stream",
     "text": [
      " 8 9 6 5 7\n"
     ]
    },
    {
     "name": "stdout",
     "output_type": "stream",
     "text": [
      "Ввведите через пробел коэффициенты и значение уравнения номер 4\n"
     ]
    },
    {
     "name": "stdin",
     "output_type": "stream",
     "text": [
      " 4 5 2 1 4\n"
     ]
    },
    {
     "name": "stdout",
     "output_type": "stream",
     "text": [
      "\n",
      "Ваши ответы:\n",
      "1896252474682314.8\n",
      "-1422189356011735.2\n",
      "-0.5\n",
      "-474063118670578.44\n",
      "\n",
      "872 µs ± 27.6 µs per loop (mean ± std. dev. of 7 runs, 1000 loops each)\n",
      "23.3 µs ± 13.8 µs per loop (mean ± std. dev. of 7 runs, 1 loop each)\n"
     ]
    }
   ],
   "source": [
    "\"\"\"Программа для получения численного решения СЛАУ методом Гаусса\"\"\"\n",
    "\n",
    "import numpy as np\n",
    "\n",
    "\n",
    "def gauss(a):\n",
    "        \"\"\" Модуль, предназначенный для решения СЛАУ методом Гаусса\n",
    "\n",
    "        Функция принимает единственный аргумент - массив Numpy размером N*N+1, содержащий коэффициенты и значения уравнений\n",
    "        Функция возвращает массив типа List, содержащий численное решение СЛАУ\n",
    "        \"\"\"\n",
    "\n",
    "        n = len(a)\n",
    "        for k in range(n):\n",
    "                for i in range(k+1, n):\n",
    "                        a[k] /= a[k][k]\n",
    "                        a[i] -= a[k]*(a[i][k])\n",
    "        a[n-1] /= a[n-1][n-1]\n",
    "\n",
    "        for i in range(n):\n",
    "                for j in range(i+1, n):\n",
    "                        a[i] -= a[j]*a[i][j]\n",
    "\n",
    "        ans = []\n",
    "        for i in range(n):\n",
    "                ans.append( round( a[i][n] * 10**14 ) * 10**-14 )\n",
    "\n",
    "        return ans\n",
    "    \n",
    "    \n",
    "@njit\n",
    "def gauss(a):\n",
    "        \"\"\" Модуль, предназначенный для решения СЛАУ методом Гаусса\n",
    "\n",
    "        Функция принимает единственный аргумент - массив Numpy размером N*N+1, содержащий коэффициенты и значения уравнений\n",
    "        Функция возвращает массив типа List, содержащий численное решение СЛАУ\n",
    "        \"\"\"\n",
    "\n",
    "        n = len(a)\n",
    "        for k in range(n):\n",
    "                for i in range(k+1, n):\n",
    "                        a[k] /= a[k][k]\n",
    "                        a[i] -= a[k]*(a[i][k])\n",
    "        a[n-1] /= a[n-1][n-1]\n",
    "\n",
    "        for i in range(n):\n",
    "                for j in range(i+1, n):\n",
    "                        a[i] -= a[j]*a[i][j]\n",
    "\n",
    "        ans = []\n",
    "        for i in range(n):\n",
    "                ans.append( round( a[i][n] * 10**14 ) * 10**-14 )\n",
    "\n",
    "        return ans\n",
    "\n",
    "\n",
    "n = int(input('Сколько уравнений в вашей системе?\\n'))\n",
    "\n",
    "a = np.zeros(n * (n+1)).reshape(n, n+1)\n",
    "\n",
    "for i in range(n):\n",
    "        print('Ввведите через пробел коэффициенты и значение уравнения номер', i+1)\n",
    "        a[i] = input().split(' ')\n",
    "        for j in range(n+1):\n",
    "                a[i][j] = float(a[i][j])\n",
    "                \n",
    "print()\n",
    "%timeit gauss(a)\n",
    "%timeit gauss_jit(a)"
   ]
  },
  {
   "cell_type": "markdown",
   "metadata": {},
   "source": [
    "В самом деле в 40 раз быстрее!\n",
    "Unpossible!!!"
   ]
  }
 ],
 "metadata": {
  "kernelspec": {
   "display_name": "Python 3",
   "language": "python",
   "name": "python3"
  },
  "language_info": {
   "codemirror_mode": {
    "name": "ipython",
    "version": 3
   },
   "file_extension": ".py",
   "mimetype": "text/x-python",
   "name": "python",
   "nbconvert_exporter": "python",
   "pygments_lexer": "ipython3",
   "version": "3.8.1"
  }
 },
 "nbformat": 4,
 "nbformat_minor": 4
}
