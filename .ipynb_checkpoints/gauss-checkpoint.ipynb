{
 "cells": [
  {
   "cell_type": "markdown",
   "metadata": {},
   "source": [
    "# Доброго времени суток! Представляю миру моё решение этой задачки!\n",
    "___"
   ]
  },
  {
   "cell_type": "code",
   "execution_count": 34,
   "metadata": {},
   "outputs": [
    {
     "name": "stdin",
     "output_type": "stream",
     "text": [
      "Сколько уравнений в вашей системе?\n",
      " 4\n"
     ]
    },
    {
     "name": "stdout",
     "output_type": "stream",
     "text": [
      "Ввведите через пробел коэффициенты и значение уравнения номер 1\n"
     ]
    },
    {
     "name": "stdin",
     "output_type": "stream",
     "text": [
      " 1 -1 3 1 5\n"
     ]
    },
    {
     "name": "stdout",
     "output_type": "stream",
     "text": [
      "Ввведите через пробел коэффициенты и значение уравнения номер 2\n"
     ]
    },
    {
     "name": "stdin",
     "output_type": "stream",
     "text": [
      " 4 -1 5 4 4\n"
     ]
    },
    {
     "name": "stdout",
     "output_type": "stream",
     "text": [
      "Ввведите через пробел коэффициенты и значение уравнения номер 3\n"
     ]
    },
    {
     "name": "stdin",
     "output_type": "stream",
     "text": [
      " 2 -2 4 1 6\n"
     ]
    },
    {
     "name": "stdout",
     "output_type": "stream",
     "text": [
      "Ввведите через пробел коэффициенты и значение уравнения номер 4\n"
     ]
    },
    {
     "name": "stdin",
     "output_type": "stream",
     "text": [
      " 1 -4 5 -1 3\n"
     ]
    },
    {
     "name": "stdout",
     "output_type": "stream",
     "text": [
      "\n",
      "Ваши ответы:\n",
      "9.0\n",
      "18.0\n",
      "10.0\n",
      "-16.0\n",
      "\n",
      "838 µs ± 17.9 µs per loop (mean ± std. dev. of 7 runs, 1000 loops each)\n",
      "23 µs ± 14.2 µs per loop (mean ± std. dev. of 7 runs, 1 loop each)\n"
     ]
    }
   ],
   "source": [
    "\"\"\"Программа для получения численного решения СЛАУ методом Гаусса\"\"\"\n",
    "\n",
    "import numpy as np\n",
    "from numba import njit\n",
    "\n",
    "\n",
    "def gauss(a):\n",
    "        \"\"\" Модуль, предназначенный для решения СЛАУ методом Гаусса\n",
    "\n",
    "        Функция принимает единственный аргумент - массив Numpy размером N*N+1,\n",
    "        содержащий коэффициенты и значения уравнений\n",
    "        Функция возвращает массив типа List, содержащий численное решение СЛАУ\n",
    "        \"\"\"\n",
    "\n",
    "        n = len(a)\n",
    "        for k in range(n):\n",
    "                for i in range(k+1, n):\n",
    "                        a[k] /= a[k][k]\n",
    "                        a[i] -= a[k]*(a[i][k])\n",
    "        a[n-1] /= a[n-1][n-1]\n",
    "\n",
    "        for i in range(n):\n",
    "                for j in range(i+1, n):\n",
    "                        a[i] -= a[j]*a[i][j]\n",
    "\n",
    "        ans = []\n",
    "        for i in range(n):\n",
    "                ans.append( round( a[i][n] * 10**14 ) * 10**-14 )\n",
    "\n",
    "        return ans\n",
    "\n",
    "\n",
    "@njit\n",
    "def gauss_jit(a):\n",
    "        \"\"\" Модуль, предназначенный для решения СЛАУ методом Гаусса\n",
    "\n",
    "        Функция принимает единственный аргумент - массив Numpy размером N*N+1,\n",
    "        содержащий коэффициенты и значения уравнений\n",
    "        Функция возвращает массив типа List, содержащий численное решение СЛАУ\n",
    "\n",
    "        !!! Данная функция ускорена с помощью NJIT из Numba !!!\n",
    "        \"\"\"\n",
    "\n",
    "        n = len(a)\n",
    "        for k in range(n):\n",
    "                for i in range(k+1, n):\n",
    "                        a[k] /= a[k][k]\n",
    "                        a[i] -= a[k]*(a[i][k])\n",
    "        a[n-1] /= a[n-1][n-1]\n",
    "\n",
    "        for i in range(n):\n",
    "                for j in range(i+1, n):\n",
    "                        a[i] -= a[j]*a[i][j]\n",
    "\n",
    "        ans = []\n",
    "        for i in range(n):\n",
    "                ans.append( round( a[i][n] * 10**14 ) * 10**-14 )\n",
    "\n",
    "        return ans\n",
    "\n",
    "\n",
    "n = int(input('Сколько уравнений в вашей системе?\\n'))\n",
    "\n",
    "a = np.zeros(n * (n+1)).reshape(n, n+1)\n",
    "\n",
    "for i in range(n):\n",
    "        print('Ввведите через пробел коэффициенты и значение уравнения номер', i+1)\n",
    "        a[i] = input().split(' ')\n",
    "        for j in range(n+1):\n",
    "                a[i][j] = float(a[i][j])\n",
    "\n",
    "ans = gauss_jit(a)             \n",
    "print()\n",
    "print('Ваши ответы:')\n",
    "for i in range(n):\n",
    "    print(ans[i])\n",
    "\n",
    "\n",
    "print()\n",
    "%timeit gauss(a)\n",
    "%timeit gauss_jit(a)"
   ]
  },
  {
   "cell_type": "markdown",
   "metadata": {},
   "source": [
    "___\n",
    "### В самом деле в 40 раз быстрее!\n",
    "# Unpossible!!!   :()"
   ]
  }
 ],
 "metadata": {
  "kernelspec": {
   "display_name": "Python 3",
   "language": "python",
   "name": "python3"
  },
  "language_info": {
   "codemirror_mode": {
    "name": "ipython",
    "version": 3
   },
   "file_extension": ".py",
   "mimetype": "text/x-python",
   "name": "python",
   "nbconvert_exporter": "python",
   "pygments_lexer": "ipython3",
   "version": "3.8.1"
  }
 },
 "nbformat": 4,
 "nbformat_minor": 4
}
